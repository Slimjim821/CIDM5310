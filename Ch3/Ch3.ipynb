{
 "cells": [
  {
   "cell_type": "markdown",
   "id": "745faacf-548d-4d2f-bc16-049403324297",
   "metadata": {},
   "source": [
    "# Chapter 3 Code"
   ]
  },
  {
   "cell_type": "code",
   "execution_count": null,
   "id": "8b56dfed-26e8-42da-9fc8-e6e07b859dcb",
   "metadata": {},
   "outputs": [],
   "source": []
  }
 ],
 "metadata": {
  "kernelspec": {
   "display_name": "Python 3",
   "language": "python",
   "name": "python3"
  },
  "language_info": {
   "codemirror_mode": {
    "name": "ipython",
    "version": 3
   },
   "file_extension": ".py",
   "mimetype": "text/x-python",
   "name": "python",
   "nbconvert_exporter": "python",
   "pygments_lexer": "ipython3",
   "version": "3.9.5"
  }
 },
 "nbformat": 4,
 "nbformat_minor": 5
}
